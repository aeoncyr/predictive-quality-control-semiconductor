{
 "cells": [
  {
   "cell_type": "code",
   "execution_count": 4,
   "metadata": {},
   "outputs": [
    {
     "name": "stdout",
     "output_type": "stream",
     "text": [
      " * Serving Flask app '__main__'\n",
      " * Debug mode: off\n"
     ]
    },
    {
     "name": "stderr",
     "output_type": "stream",
     "text": [
      "WARNING: This is a development server. Do not use it in a production deployment. Use a production WSGI server instead.\n",
      " * Running on http://127.0.0.1:5000\n",
      "Press CTRL+C to quit\n",
      "127.0.0.1 - - [31/Aug/2024 15:04:44] \"GET /predict HTTP/1.1\" 405 -\n",
      "127.0.0.1 - - [31/Aug/2024 15:05:47] \"POST /predict HTTP/1.1\" 400 -\n",
      "127.0.0.1 - - [31/Aug/2024 15:06:29] \"GET / HTTP/1.1\" 404 -\n",
      "127.0.0.1 - - [31/Aug/2024 15:07:08] \"GET /predict HTTP/1.1\" 405 -\n",
      "127.0.0.1 - - [31/Aug/2024 15:07:41] \"GET / HTTP/1.1\" 404 -\n",
      "127.0.0.1 - - [31/Aug/2024 15:09:55] \"POST /predict HTTP/1.1\" 400 -\n",
      "127.0.0.1 - - [31/Aug/2024 15:10:44] \"POST /predict HTTP/1.1\" 400 -\n"
     ]
    }
   ],
   "source": [
    "from flask import Flask, request, jsonify\n",
    "import joblib\n",
    "import pandas as pd\n",
    "\n",
    "app = Flask(__name__)\n",
    "\n",
    "# Load the saved pipeline\n",
    "model = joblib.load('model_pipeline.pkl')\n",
    "\n",
    "@app.route('/predict', methods=['POST'])\n",
    "def predict():\n",
    "    json_data = request.get_json()\n",
    "    input_data = pd.DataFrame(json_data)\n",
    "    predictions = model.predict(input_data)\n",
    "    prediction_probs = model.predict_proba(input_data)[:, 1]\n",
    "    return jsonify({\n",
    "        'predictions': predictions.tolist(),\n",
    "        'probabilities': prediction_probs.tolist()\n",
    "    })\n",
    "\n",
    "if __name__ == '__main__':\n",
    "    app.run(debug=True)\n"
   ]
  }
 ],
 "metadata": {
  "kernelspec": {
   "display_name": "Python 3",
   "language": "python",
   "name": "python3"
  },
  "language_info": {
   "codemirror_mode": {
    "name": "ipython",
    "version": 3
   },
   "file_extension": ".py",
   "mimetype": "text/x-python",
   "name": "python",
   "nbconvert_exporter": "python",
   "pygments_lexer": "ipython3",
   "version": "3.11.9"
  }
 },
 "nbformat": 4,
 "nbformat_minor": 2
}
