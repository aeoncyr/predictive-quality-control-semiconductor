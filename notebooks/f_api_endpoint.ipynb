{
 "cells": [
  {
   "cell_type": "code",
   "execution_count": null,
   "metadata": {},
   "outputs": [],
   "source": [
    "from fastapi import FastAPI, HTTPException\n",
    "from pydantic import BaseModel\n",
    "import numpy as np\n",
    "from e_deploy_model_function import deploy_model"
   ]
  },
  {
   "cell_type": "code",
   "execution_count": null,
   "metadata": {},
   "outputs": [],
   "source": [
    "app = FastAPI()\n",
    "\n",
    "# Define the request model for the data input\n",
    "class PredictRequest(BaseModel):\n",
    "    model_choice: str = \"RF\"\n",
    "    data: list\n",
    "    verbose: bool = False\n",
    "    use_pca: bool = True\n",
    "\n",
    "@app.post(\"/predict\")\n",
    "async def predict(request: PredictRequest):\n",
    "    try:\n",
    "        # Convert list data to numpy array for compatibility\n",
    "        input_data = np.array(request.data)\n",
    "\n",
    "        # Handle both single row and multiple rows\n",
    "        if input_data.ndim == 1:\n",
    "            input_data = input_data.reshape(1, -1)\n",
    "        elif input_data.ndim != 2:\n",
    "            raise ValueError(\"Data should be 1D (single row) or 2D (multiple rows)\")\n",
    "\n",
    "        # Deploy the model using the imported deploy_model function\n",
    "        predictions = deploy_model(\n",
    "            model_choice=request.model_choice,\n",
    "            data=input_data,\n",
    "            verbose=request.verbose,\n",
    "            use_pca=request.use_pca\n",
    "        )\n",
    "\n",
    "        return {\"predictions\": predictions.tolist()}\n",
    "\n",
    "    except Exception as e:\n",
    "        raise HTTPException(status_code=400, detail=str(e))\n",
    "\n",
    "\n",
    "# Run the application using Uvicorn\n",
    "if __name__ == \"__main__\":\n",
    "    import uvicorn\n",
    "    uvicorn.run(app, host=\"0.0.0.0\", port=8000)"
   ]
  }
 ],
 "metadata": {
  "kernelspec": {
   "display_name": "Python 3",
   "language": "python",
   "name": "python3"
  },
  "language_info": {
   "codemirror_mode": {
    "name": "ipython",
    "version": 3
   },
   "file_extension": ".py",
   "mimetype": "text/x-python",
   "name": "python",
   "nbconvert_exporter": "python",
   "pygments_lexer": "ipython3",
   "version": "3.11.9"
  }
 },
 "nbformat": 4,
 "nbformat_minor": 2
}
